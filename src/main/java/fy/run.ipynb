{
 "cells": [
  {
   "cell_type": "code",
   "execution_count": 1,
   "id": "d9c0db59",
   "metadata": {},
   "outputs": [],
   "source": [
    "import os"
   ]
  },
  {
   "cell_type": "code",
   "execution_count": 4,
   "id": "0a18c316",
   "metadata": {},
   "outputs": [
    {
     "data": {
      "text/plain": [
       "['/Users/fy/Documents/MyProjects/CodeChangeDataSet/spring-data-jpa',\n",
       " '/Users/fy/Documents/MyProjects/CodeChangeDataSet/spring-data-jdbc',\n",
       " '/Users/fy/Documents/MyProjects/CodeChangeDataSet/spring-data-mongodb',\n",
       " '/Users/fy/Documents/MyProjects/CodeChangeDataSet/spring-framework',\n",
       " '/Users/fy/Documents/MyProjects/CodeChangeDataSet/spring-data-ldap',\n",
       " '/Users/fy/Documents/MyProjects/CodeChangeDataSet/spring-boot']"
      ]
     },
     "execution_count": 4,
     "metadata": {},
     "output_type": "execute_result"
    }
   ],
   "source": [
    "# get paths to analyze\n",
    "base = '/Users/fy/Documents/MyProjects/CodeChangeDataSet'\n",
    "paths = []\n",
    "for path in os.listdir(base):\n",
    "    if path.startswith('spring'):\n",
    "        paths.append(os.path.join(base, path))\n",
    "paths"
   ]
  },
  {
   "cell_type": "code",
   "execution_count": 9,
   "id": "adcb6d1a",
   "metadata": {},
   "outputs": [
    {
     "name": "stdout",
     "output_type": "stream",
     "text": [
      "/Users/fy/Documents/CCSALL/out/artifacts/CCSALL_jar\n"
     ]
    },
    {
     "data": {
      "text/plain": [
       "'/Users/fy/Documents/MyProjects/CodeChangeDataSet/spring-data-jpa /Users/fy/Documents/MyProjects/CodeChangeDataSet/spring-data-jdbc /Users/fy/Documents/MyProjects/CodeChangeDataSet/spring-data-mongodb /Users/fy/Documents/MyProjects/CodeChangeDataSet/spring-framework /Users/fy/Documents/MyProjects/CodeChangeDataSet/spring-data-ldap /Users/fy/Documents/MyProjects/CodeChangeDataSet/spring-boot'"
      ]
     },
     "execution_count": 9,
     "metadata": {},
     "output_type": "execute_result"
    }
   ],
   "source": [
    "# run\n",
    "cwd = '/Users/fy/Documents/CCSALL/out/artifacts/CCSALL_jar'\n",
    "jar_file = 'CCSALL.jar'\n",
    "%cd $cwd\n",
    "params = ' '.join(paths)\n",
    "# ! java -jar $jar_file $params\n",
    "params"
   ]
  },
  {
   "cell_type": "code",
   "execution_count": null,
   "id": "8d53cd7f",
   "metadata": {},
   "outputs": [],
   "source": []
  }
 ],
 "metadata": {
  "kernelspec": {
   "display_name": "Python 3 (ipykernel)",
   "language": "python",
   "name": "python3"
  },
  "language_info": {
   "codemirror_mode": {
    "name": "ipython",
    "version": 3
   },
   "file_extension": ".py",
   "mimetype": "text/x-python",
   "name": "python",
   "nbconvert_exporter": "python",
   "pygments_lexer": "ipython3",
   "version": "3.10.8"
  }
 },
 "nbformat": 4,
 "nbformat_minor": 5
}
